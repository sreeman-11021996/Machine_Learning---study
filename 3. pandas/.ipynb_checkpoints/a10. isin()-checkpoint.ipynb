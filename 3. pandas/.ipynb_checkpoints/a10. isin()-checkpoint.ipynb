{
 "cells": [
  {
   "cell_type": "code",
   "execution_count": 1,
   "id": "c237b0c3",
   "metadata": {},
   "outputs": [],
   "source": [
    "import numpy as np\n",
    "import pandas as pd"
   ]
  },
  {
   "cell_type": "code",
   "execution_count": 3,
   "id": "c344799e",
   "metadata": {},
   "outputs": [],
   "source": [
    "delivery = pd.read_csv('deliveries.csv')"
   ]
  },
  {
   "cell_type": "code",
   "execution_count": 2,
   "id": "9adac689",
   "metadata": {},
   "outputs": [],
   "source": [
    "# isin()\n",
    "# find the most destructive 'death over'[last 5 overs] batsman in the \n",
    "# history of IPL\n",
    "# most destructive batsman in the last five overs ?\n",
    "# Strike rate = (Number of runs/Number of balls)/100\n",
    "# balls played by batsman >=200 in overs 16-20"
   ]
  },
  {
   "cell_type": "code",
   "execution_count": 4,
   "id": "450b46a4",
   "metadata": {},
   "outputs": [],
   "source": [
    "# 1. get the list of batsman who played >=200 balls in overs 16-20"
   ]
  },
  {
   "cell_type": "code",
   "execution_count": 6,
   "id": "2f2d84f0",
   "metadata": {},
   "outputs": [],
   "source": [
    "mask = delivery['over'] > 15\n",
    "death_over = delivery[mask]"
   ]
  },
  {
   "cell_type": "code",
   "execution_count": 9,
   "id": "9bec18d2",
   "metadata": {},
   "outputs": [],
   "source": [
    "all_batsman = death_over.groupby('batsman')['batsman_runs'].count()\n",
    "mask_2 = all_batsman > 200"
   ]
  },
  {
   "cell_type": "code",
   "execution_count": 16,
   "id": "9a070600",
   "metadata": {},
   "outputs": [],
   "source": [
    "batsman_list = all_batsman[mask_2].index.tolist()\n",
    "# tolist() -> gives us a list from a series"
   ]
  },
  {
   "cell_type": "code",
   "execution_count": 17,
   "id": "2015e298",
   "metadata": {},
   "outputs": [
    {
     "data": {
      "text/plain": [
       "['A Mishra',\n",
       " 'AB de Villiers',\n",
       " 'AD Mathews',\n",
       " 'AM Rahane',\n",
       " 'AR Patel',\n",
       " 'AT Rayudu',\n",
       " 'BJ Hodge',\n",
       " 'DA Miller',\n",
       " 'DA Warner',\n",
       " 'DJ Bravo',\n",
       " 'DJ Hussey',\n",
       " 'DPMD Jayawardene',\n",
       " 'Harbhajan Singh',\n",
       " 'IK Pathan',\n",
       " 'JA Morkel',\n",
       " 'JH Kallis',\n",
       " 'JP Duminy',\n",
       " 'JP Faulkner',\n",
       " 'KA Pollard',\n",
       " 'KD Karthik',\n",
       " 'KM Jadhav',\n",
       " 'LRPL Taylor',\n",
       " 'MK Pandey',\n",
       " 'MK Tiwary',\n",
       " 'MS Dhoni',\n",
       " 'NV Ojha',\n",
       " 'P Kumar',\n",
       " 'PP Chawla',\n",
       " 'R Vinay Kumar',\n",
       " 'RA Jadeja',\n",
       " 'RG Sharma',\n",
       " 'RV Uthappa',\n",
       " 'S Badrinath',\n",
       " 'S Dhawan',\n",
       " 'SK Raina',\n",
       " 'SPD Smith',\n",
       " 'SS Tiwary',\n",
       " 'STR Binny',\n",
       " 'V Kohli',\n",
       " 'WP Saha',\n",
       " 'Y Venugopal Rao',\n",
       " 'YK Pathan',\n",
       " 'Yuvraj Singh']"
      ]
     },
     "execution_count": 17,
     "metadata": {},
     "output_type": "execute_result"
    }
   ],
   "source": [
    "batsman_list"
   ]
  },
  {
   "cell_type": "code",
   "execution_count": null,
   "id": "174ed6c6",
   "metadata": {},
   "outputs": [],
   "source": [
    "# isin() - takes a list as argument and checks for all values in list"
   ]
  },
  {
   "cell_type": "code",
   "execution_count": 25,
   "id": "aae38e75",
   "metadata": {},
   "outputs": [],
   "source": [
    "mask_3 = death_over['batsman'].isin(batsman_list)\n",
    "# => death_over['batsman'] == 'V Kohli'\n",
    "#... death_over['batsman'] == 'DK Andres'\n",
    "final = death_over[mask_3]\n",
    "# we get the dataframe of all 43 batsman for overs 16-20"
   ]
  },
  {
   "cell_type": "code",
   "execution_count": 29,
   "id": "8a6b0012",
   "metadata": {},
   "outputs": [],
   "source": [
    "runs = final.groupby('batsman')['batsman_runs'].sum()\n",
    "balls = final.groupby('batsman')['batsman_runs'].count()\n",
    "sr = (runs/balls)*100"
   ]
  },
  {
   "cell_type": "code",
   "execution_count": 32,
   "id": "e5057ec2",
   "metadata": {},
   "outputs": [
    {
     "data": {
      "text/plain": [
       "batsman\n",
       "AB de Villiers      211.052632\n",
       "DA Warner           189.473684\n",
       "DA Miller           186.666667\n",
       "V Kohli             181.868132\n",
       "RG Sharma           175.668449\n",
       "DJ Hussey           175.213675\n",
       "RV Uthappa          173.454545\n",
       "Yuvraj Singh        171.124031\n",
       "JH Kallis           170.562771\n",
       "MS Dhoni            169.607843\n",
       "SPD Smith           169.303797\n",
       "JP Duminy           167.760618\n",
       "DJ Bravo            167.726161\n",
       "SK Raina            167.467249\n",
       "AT Rayudu           165.411765\n",
       "WP Saha             163.389831\n",
       "KA Pollard          161.336516\n",
       "YK Pathan           159.246575\n",
       "S Dhawan            158.847737\n",
       "BJ Hodge            157.402597\n",
       "AM Rahane           152.985075\n",
       "LRPL Taylor         152.941176\n",
       "KD Karthik          152.051836\n",
       "DPMD Jayawardene    152.032520\n",
       "MK Pandey           151.785714\n",
       "JA Morkel           149.882353\n",
       "JP Faulkner         149.319728\n",
       "S Badrinath         149.116608\n",
       "Y Venugopal Rao     148.846154\n",
       "Harbhajan Singh     147.607656\n",
       "AD Mathews          147.058824\n",
       "KM Jadhav           144.378698\n",
       "STR Binny           144.036697\n",
       "AR Patel            142.794760\n",
       "IK Pathan           142.580645\n",
       "MK Tiwary           140.189125\n",
       "SS Tiwary           136.666667\n",
       "NV Ojha             134.868421\n",
       "RA Jadeja           130.729167\n",
       "PP Chawla           120.257235\n",
       "P Kumar             109.701493\n",
       "R Vinay Kumar       108.936170\n",
       "A Mishra            100.888889\n",
       "Name: batsman_runs, dtype: float64"
      ]
     },
     "execution_count": 32,
     "metadata": {},
     "output_type": "execute_result"
    }
   ],
   "source": [
    "sr.sort_values(ascending=False)"
   ]
  },
  {
   "cell_type": "code",
   "execution_count": null,
   "id": "1ecb8fa0",
   "metadata": {},
   "outputs": [],
   "source": []
  }
 ],
 "metadata": {
  "kernelspec": {
   "display_name": "Python 3",
   "language": "python",
   "name": "python3"
  },
  "language_info": {
   "codemirror_mode": {
    "name": "ipython",
    "version": 3
   },
   "file_extension": ".py",
   "mimetype": "text/x-python",
   "name": "python",
   "nbconvert_exporter": "python",
   "pygments_lexer": "ipython3",
   "version": "3.8.8"
  }
 },
 "nbformat": 4,
 "nbformat_minor": 5
}
