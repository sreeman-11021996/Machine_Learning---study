{
 "cells": [
  {
   "cell_type": "code",
   "execution_count": 49,
   "id": "1aea2dfe",
   "metadata": {},
   "outputs": [],
   "source": [
    "import numpy as np"
   ]
  },
  {
   "cell_type": "code",
   "execution_count": 57,
   "id": "793dba2f",
   "metadata": {},
   "outputs": [],
   "source": [
    "def calculate (lst):\n",
    "    try:\n",
    "        mat = np.array(lst).reshape(3,3)\n",
    "    except ValueError as e:\n",
    "        print(\"List must contain nine numbers.\",e)\n",
    "        return\n",
    "    mean = [mat.mean(axis=0),mat.mean(axis=1),mat.mean()]\n",
    "    var = [mat.var(axis=0),mat.var(axis=1),mat.var()]\n",
    "    std = [mat.std(axis=0),mat.std(axis=1),mat.std()]\n",
    "    max = [mat.max(axis=0),mat.max(axis=1),mat.max()]\n",
    "    min = [mat.min(axis=0),mat.min(axis=1),mat.min()]\n",
    "    sum = [mat.sum(axis=0),mat.sum(axis=1),mat.sum()]\n",
    "    dict_r = {'mean':mean,'variance':var,'standard deviation':std,'max':max,'min':min,'sum':sum}\n",
    "    return dict_r"
   ]
  },
  {
   "cell_type": "code",
   "execution_count": 58,
   "id": "a4ae8758",
   "metadata": {},
   "outputs": [
    {
     "data": {
      "text/plain": [
       "{'mean': [array([3., 4., 5.]), array([1., 4., 7.]), 4.0],\n",
       " 'variance': [array([6., 6., 6.]),\n",
       "  array([0.66666667, 0.66666667, 0.66666667]),\n",
       "  6.666666666666667],\n",
       " 'standard deviation': [array([2.44948974, 2.44948974, 2.44948974]),\n",
       "  array([0.81649658, 0.81649658, 0.81649658]),\n",
       "  2.581988897471611],\n",
       " 'max': [array([6, 7, 8]), array([2, 5, 8]), 8],\n",
       " 'min': [array([0, 1, 2]), array([0, 3, 6]), 0],\n",
       " 'sum': [array([ 9, 12, 15]), array([ 3, 12, 21]), 36]}"
      ]
     },
     "execution_count": 58,
     "metadata": {},
     "output_type": "execute_result"
    }
   ],
   "source": [
    "calculate([0,1,2,3,4,5,6,7,8])"
   ]
  },
  {
   "cell_type": "code",
   "execution_count": 59,
   "id": "c577f1be",
   "metadata": {},
   "outputs": [
    {
     "name": "stdout",
     "output_type": "stream",
     "text": [
      "List must contain nine numbers. cannot reshape array of size 8 into shape (3,3)\n"
     ]
    }
   ],
   "source": [
    "calculate([2,6,2,8,4,0,1,5])"
   ]
  },
  {
   "cell_type": "code",
   "execution_count": null,
   "id": "fd1061f4",
   "metadata": {},
   "outputs": [],
   "source": []
  },
  {
   "cell_type": "code",
   "execution_count": null,
   "id": "2da839e0",
   "metadata": {},
   "outputs": [],
   "source": []
  }
 ],
 "metadata": {
  "kernelspec": {
   "display_name": "Python 3",
   "language": "python",
   "name": "python3"
  },
  "language_info": {
   "codemirror_mode": {
    "name": "ipython",
    "version": 3
   },
   "file_extension": ".py",
   "mimetype": "text/x-python",
   "name": "python",
   "nbconvert_exporter": "python",
   "pygments_lexer": "ipython3",
   "version": "3.8.8"
  }
 },
 "nbformat": 4,
 "nbformat_minor": 5
}
