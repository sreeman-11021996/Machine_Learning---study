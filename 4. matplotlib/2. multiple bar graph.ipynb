{
 "cells": [
  {
   "cell_type": "code",
   "execution_count": 42,
   "id": "fbd282f5",
   "metadata": {},
   "outputs": [],
   "source": [
    "import matplotlib.pyplot as plt\n",
    "%matplotlib inline\n",
    "import pandas as pd\n",
    "import numpy as np"
   ]
  },
  {
   "cell_type": "code",
   "execution_count": 56,
   "id": "7eb5232d",
   "metadata": {},
   "outputs": [],
   "source": [
    "subjects = [\"Maths\", \"Biology\", \"Chemistry\",\n",
    "            \"Physics\",\"English\",\"Computers\"]\n",
    "student1 = [97, 68, 59, 81, 77, 92]\n",
    "student2 = [88, 61, 80, 40, 62, 52]\n",
    "student3 = [54, 62, 77, 54, 71, 98]"
   ]
  },
  {
   "cell_type": "code",
   "execution_count": 57,
   "id": "979c09b6",
   "metadata": {},
   "outputs": [],
   "source": [
    "index = np.arange(len(subjects))\n",
    "bar_width = 0.25"
   ]
  },
  {
   "cell_type": "code",
   "execution_count": 60,
   "id": "8ea10dec",
   "metadata": {},
   "outputs": [
    {
     "data": {
      "image/png": "[encoded data removed]",
      "text/plain": [
       "<Figure size 432x288 with 1 Axes>"
      ]
     },
     "metadata": {
      "needs_background": "light"
     },
     "output_type": "display_data"
    }
   ],
   "source": [
    "plt.bar(index,student1,bar_width,color='aqua',label='student1')\n",
    "plt.bar(index+bar_width,student2,bar_width,color='green',label='student2')\n",
    "plt.bar(index+2*bar_width,student3,bar_width,color='blue',label='student3')\n",
    "plt.xticks(index+bar_width, subjects)\n",
    "plt.show()"
   ]
  },
  {
   "cell_type": "code",
   "execution_count": null,
   "id": "ccb6dd62",
   "metadata": {},
   "outputs": [],
   "source": []
  },
  {
   "cell_type": "code",
   "execution_count": null,
   "id": "ad5224fb",
   "metadata": {},
   "outputs": [],
   "source": []
  },
  {
   "cell_type": "code",
   "execution_count": 74,
   "id": "f9ca9117",
   "metadata": {},
   "outputs": [],
   "source": [
    "import random\n",
    "import pandas as pd\n",
    "import numpy as np\n",
    "import matplotlib.pyplot as plt"
   ]
  },
  {
   "cell_type": "code",
   "execution_count": 75,
   "id": "052be157",
   "metadata": {},
   "outputs": [],
   "source": [
    "s = \"Crime Type Summer|Crime Type Winter\".split(\"|\")\n",
    "lst = [\"ASB\", \"Violence\", \"Theft\", \"Public Order\", \"Drugs\"]\n",
    "# Generate dummy data into a dataframe\n",
    "j = {x: [random.choice(lst) for j in range(300)] for x in s}\n",
    "df = pd.DataFrame(j)\n"
   ]
  },
  {
   "cell_type": "code",
   "execution_count": 76,
   "id": "dc265b72",
   "metadata": {},
   "outputs": [
    {
     "data": {
      "image/png": "[encoded data removed]",
      "text/plain": [
       "<Figure size 432x288 with 1 Axes>"
      ]
     },
     "metadata": {
      "needs_background": "light"
     },
     "output_type": "display_data"
    }
   ],
   "source": [
    "\n",
    "\n",
    "\n",
    "\n",
    "index = np.arange(5)\n",
    "bar_width = 0.35\n",
    "\n",
    "summer = plt.bar(index, df[\"Crime Type Summer\"].value_counts(), bar_width,\n",
    "                label=\"Summer\")\n",
    "\n",
    "winter = plt.bar(index+bar_width, df[\"Crime Type Winter\"].value_counts(),\n",
    "                 bar_width, label=\"Winter\")\n",
    "\n",
    "plt.xlabel('Category')\n",
    "plt.ylabel('Incidence')\n",
    "plt.title('Crime incidence by season, type')\n",
    "plt.xticks(index + bar_width / 2,lst)\n",
    "plt.legend()\n",
    "plt.show()"
   ]
  },
  {
   "cell_type": "code",
   "execution_count": null,
   "id": "d43b330f",
   "metadata": {},
   "outputs": [],
   "source": []
  },
  {
   "cell_type": "code",
   "execution_count": null,
   "id": "22d52224",
   "metadata": {},
   "outputs": [],
   "source": []
  },
  {
   "cell_type": "code",
   "execution_count": null,
   "id": "8df2c923",
   "metadata": {},
   "outputs": [],
   "source": []
  }
 ],
 "metadata": {
  "kernelspec": {
   "display_name": "Python 3",
   "language": "python",
   "name": "python3"
  },
  "language_info": {
   "codemirror_mode": {
    "name": "ipython",
    "version": 3
   },
   "file_extension": ".py",
   "mimetype": "text/x-python",
   "name": "python",
   "nbconvert_exporter": "python",
   "pygments_lexer": "ipython3",
   "version": "3.8.8"
  }
 },
 "nbformat": 4,
 "nbformat_minor": 5
}
