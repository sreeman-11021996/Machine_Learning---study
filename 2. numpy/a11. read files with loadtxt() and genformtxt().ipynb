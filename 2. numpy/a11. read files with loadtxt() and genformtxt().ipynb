{
 "cells": [
  {
   "cell_type": "code",
   "execution_count": 10,
   "id": "f893bc87",
   "metadata": {},
   "outputs": [],
   "source": [
    "# load data from csv files using numpy"
   ]
  },
  {
   "cell_type": "code",
   "execution_count": 12,
   "id": "64f762c6",
   "metadata": {},
   "outputs": [],
   "source": [
    "import numpy as np"
   ]
  },
  {
   "cell_type": "code",
   "execution_count": 21,
   "id": "52633b3b",
   "metadata": {},
   "outputs": [],
   "source": []
  },
  {
   "cell_type": "code",
   "execution_count": 26,
   "id": "0e4a7af4",
   "metadata": {},
   "outputs": [],
   "source": [
    "# np.loadtxt(fname,dtype=<class='float'>,comments='#',delimiter=None,\n",
    "# converters=None,skiprows=0,usecols=None,unpack=false,ndim=0)\n",
    "# skiprows-> skips the number of rows in file\n",
    "# unpack = true -> stores the columns in seperate arrays\n",
    "# usecols -> which columns to use from data"
   ]
  },
  {
   "cell_type": "code",
   "execution_count": 27,
   "id": "c116090a",
   "metadata": {},
   "outputs": [],
   "source": [
    "data = np.loadtxt('test.csv', dtype = float, delimiter = ',')"
   ]
  },
  {
   "cell_type": "code",
   "execution_count": 28,
   "id": "4a4c3cd4",
   "metadata": {},
   "outputs": [
    {
     "data": {
      "text/plain": [
       "array([[ 1.,  2.,  3.,  4.,  5.],\n",
       "       [ 6.,  7.,  8.,  9., 10.],\n",
       "       [11., 12., 13., 14., 15.],\n",
       "       [16., 17., 18., 19., 20.],\n",
       "       [21., 22., 23., 24., 25.]])"
      ]
     },
     "execution_count": 28,
     "metadata": {},
     "output_type": "execute_result"
    }
   ],
   "source": [
    "data"
   ]
  },
  {
   "cell_type": "code",
   "execution_count": 29,
   "id": "3c82ab85",
   "metadata": {},
   "outputs": [],
   "source": [
    "#def load_housing_data(file = FILE ):\n",
    "#    return np.loadtxt\n",
    "#(file, dtype={'names': ('longitude','latitude','housing_median_age',\n",
    "#'total_rooms','total_bedrooms','population','households','median_income',\n",
    "#'median_house_value','ocean_proximity'),//->keys(columntags)\n",
    "#'formats': ('f8', 'f8', 'f8', 'f8', 'f8', 'f8', 'f8', 'f8', 'f8', '|S15')},\n",
    "# -> data formats for each columns - \n",
    "# 'f8' means 64-bit floating-point number\n",
    "# '|S15' -means a string of length of 15 characters\n",
    "#delimiter=',', skiprows=1, unpack=True)\n",
    "# https://numpy.org/doc/stable/reference/arrays.dtypes.html"
   ]
  },
  {
   "cell_type": "code",
   "execution_count": 30,
   "id": "1cf01314",
   "metadata": {},
   "outputs": [
    {
     "data": {
      "text/plain": [
       "\"\\ngenfromtxt() function is very helpful when you are expecting some missing \\nvalues in the dataset to be loaded. Below is a sample code\\n\\nimport numpy as np\\nmy_arr = np.genfromtxt('my_file.txt',skip_header=2, filling_values=9999999)\\n\""
      ]
     },
     "execution_count": 30,
     "metadata": {},
     "output_type": "execute_result"
    }
   ],
   "source": [
    "\"\"\"\n",
    "genfromtxt() function is very helpful when you are expecting some missing \n",
    "values in the dataset to be loaded. Below is a sample code\n",
    "\n",
    "import numpy as np\n",
    "my_arr = np.genfromtxt('my_file.txt',skip_header=2, filling_values=9999999)\n",
    "\"\"\""
   ]
  },
  {
   "cell_type": "code",
   "execution_count": 5,
   "id": "23f54cab",
   "metadata": {},
   "outputs": [],
   "source": [
    "def generate_lines (filepath, delimiters=[]):\n",
    "    with open (filepath) as fhand:\n",
    "        text = []\n",
    "        for line in fhand:\n",
    "            line = line.strip()\n",
    "            for d in delimiters:\n",
    "                line = line.replace(d,\" \")\n",
    "            yield line\n",
    "            #text.append(line)\n",
    "        #return text\n",
    "        "
   ]
  },
  {
   "cell_type": "code",
   "execution_count": 7,
   "id": "a88c080d",
   "metadata": {},
   "outputs": [
    {
     "data": {
      "text/plain": [
       "['110.90 146.03 3 7 1981', '44.83 211.82 1 2 1986', '97.13 209.30 14 2 1989']"
      ]
     },
     "execution_count": 7,
     "metadata": {},
     "output_type": "execute_result"
    }
   ],
   "source": [
    "gen = generate_lines(\"./test_del.csv\",[\"-\",\",\"])\n",
    "#for i in gen : print(i)\n",
    "list(gen)"
   ]
  },
  {
   "cell_type": "code",
   "execution_count": 124,
   "id": "34571135",
   "metadata": {},
   "outputs": [],
   "source": [
    "data = np.loadtxt(gen,dtype=\"float,float,int,int,int\",unpack = True)"
   ]
  },
  {
   "cell_type": "code",
   "execution_count": 125,
   "id": "a7e8ec2b",
   "metadata": {},
   "outputs": [
    {
     "data": {
      "text/plain": [
       "[array([110.9 ,  44.83,  97.13]),\n",
       " array([146.03, 211.82, 209.3 ]),\n",
       " array([ 3,  1, 14]),\n",
       " array([7, 2, 2]),\n",
       " array([1981, 1986, 1989])]"
      ]
     },
     "execution_count": 125,
     "metadata": {},
     "output_type": "execute_result"
    }
   ],
   "source": []
  },
  {
   "cell_type": "code",
   "execution_count": null,
   "id": "fe5bd88e",
   "metadata": {},
   "outputs": [],
   "source": [
    "# genformtxt() ->takes care of missing values:-parameter: filling_values = "
   ]
  },
  {
   "cell_type": "code",
   "execution_count": null,
   "id": "893e8e42",
   "metadata": {},
   "outputs": [],
   "source": [
    "#def <<your code comes here>>(file =FILE ):\n",
    "#    return np.genfromtxt(file, \n",
    "# dtype={'names': ('longitude','latitude','housing_median_age',\n",
    "# 'total_rooms','total_bedrooms','population','households','median_income',\n",
    "# 'median_house_value','ocean_proximity'),\n",
    "# 'formats': ('f8', 'f8', 'f8', 'f8', 'f8', 'f8', 'f8', 'f8', 'f8', '|S15')\n",
    "# }, delimiter=',', skip_header=1, filling_values = 99999999, unpack=False)"
   ]
  }
 ],
 "metadata": {
  "kernelspec": {
   "display_name": "Python 3",
   "language": "python",
   "name": "python3"
  },
  "language_info": {
   "codemirror_mode": {
    "name": "ipython",
    "version": 3
   },
   "file_extension": ".py",
   "mimetype": "text/x-python",
   "name": "python",
   "nbconvert_exporter": "python",
   "pygments_lexer": "ipython3",
   "version": "3.8.8"
  }
 },
 "nbformat": 4,
 "nbformat_minor": 5
}
