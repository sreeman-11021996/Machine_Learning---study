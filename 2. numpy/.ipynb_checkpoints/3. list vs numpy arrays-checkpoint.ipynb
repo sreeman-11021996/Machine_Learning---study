{
 "cells": [
  {
   "cell_type": "code",
   "execution_count": 1,
   "id": "b1011c4d",
   "metadata": {},
   "outputs": [],
   "source": [
    "# faster, convinient, less memory -> numpy arrays"
   ]
  },
  {
   "cell_type": "code",
   "execution_count": 3,
   "id": "00a1aa80",
   "metadata": {},
   "outputs": [],
   "source": [
    "import numpy as np"
   ]
  },
  {
   "cell_type": "code",
   "execution_count": 3,
   "id": "652c136c",
   "metadata": {},
   "outputs": [],
   "source": [
    "lista = range(100)\n",
    "arr11 = np.arange(100)"
   ]
  },
  {
   "cell_type": "code",
   "execution_count": 4,
   "id": "f9c6fc26",
   "metadata": {},
   "outputs": [],
   "source": [
    "import sys"
   ]
  },
  {
   "cell_type": "code",
   "execution_count": 5,
   "id": "1f9a3b11",
   "metadata": {},
   "outputs": [
    {
     "name": "stdout",
     "output_type": "stream",
     "text": [
      "2800\n"
     ]
    }
   ],
   "source": [
    "print(sys.getsizeof(87)*len(lista))"
   ]
  },
  {
   "cell_type": "code",
   "execution_count": 6,
   "id": "59980b0d",
   "metadata": {},
   "outputs": [
    {
     "name": "stdout",
     "output_type": "stream",
     "text": [
      "400\n"
     ]
    }
   ],
   "source": [
    "print(arr11.itemsize * arr11.size)"
   ]
  },
  {
   "cell_type": "code",
   "execution_count": 7,
   "id": "9ca99a1a",
   "metadata": {},
   "outputs": [],
   "source": [
    "import time"
   ]
  },
  {
   "cell_type": "code",
   "execution_count": 13,
   "id": "d015a03e",
   "metadata": {},
   "outputs": [
    {
     "name": "stdout",
     "output_type": "stream",
     "text": [
      "21.06165099143982\n"
     ]
    }
   ],
   "source": [
    "x = range(100000000)\n",
    "y = range(100000000,200000000)\n",
    "\n",
    "start_time = time.time()\n",
    "z = [x+y for (x,y) in zip(x,y)]\n",
    "print(time.time()-start_time)"
   ]
  },
  {
   "cell_type": "code",
   "execution_count": 14,
   "id": "1dc37344",
   "metadata": {},
   "outputs": [
    {
     "name": "stdout",
     "output_type": "stream",
     "text": [
      "2.035846710205078\n"
     ]
    }
   ],
   "source": [
    "a = np.arange(100000000)\n",
    "b = np.arange(100000000,200000000)\n",
    "\n",
    "start_time = time.time()\n",
    "c = a+b\n",
    "print(time.time()-start_time)"
   ]
  },
  {
   "cell_type": "code",
   "execution_count": null,
   "id": "582eb3e6",
   "metadata": {},
   "outputs": [],
   "source": []
  },
  {
   "cell_type": "code",
   "execution_count": 1,
   "id": "2166ad27",
   "metadata": {},
   "outputs": [],
   "source": [
    "# If you assign a single value to an ndarray slice, it is copied\n",
    "# across the whole slice"
   ]
  },
  {
   "cell_type": "code",
   "execution_count": 4,
   "id": "bd39d61d",
   "metadata": {},
   "outputs": [],
   "source": [
    "a = np.array([1, 2, 5, 7, 8])"
   ]
  },
  {
   "cell_type": "code",
   "execution_count": 5,
   "id": "c316d558",
   "metadata": {},
   "outputs": [],
   "source": [
    "a[1:3] = -1"
   ]
  },
  {
   "cell_type": "code",
   "execution_count": 6,
   "id": "cde797fd",
   "metadata": {},
   "outputs": [
    {
     "data": {
      "text/plain": [
       "array([ 1, -1, -1,  7,  8])"
      ]
     },
     "execution_count": 6,
     "metadata": {},
     "output_type": "execute_result"
    }
   ],
   "source": [
    "a"
   ]
  },
  {
   "cell_type": "code",
   "execution_count": null,
   "id": "7dffc4a6",
   "metadata": {},
   "outputs": [],
   "source": []
  },
  {
   "cell_type": "code",
   "execution_count": 7,
   "id": "2b3fdf70",
   "metadata": {},
   "outputs": [],
   "source": [
    "# ndarray slices are actually views on the same data buffer. If\n",
    "# you modify it, it is going to modify the original ndarray as well."
   ]
  },
  {
   "cell_type": "code",
   "execution_count": 13,
   "id": "b6317df4",
   "metadata": {},
   "outputs": [],
   "source": [
    "a = np.array([1, 2, 5, 7, 8])"
   ]
  },
  {
   "cell_type": "code",
   "execution_count": 14,
   "id": "4bb73cdb",
   "metadata": {},
   "outputs": [
    {
     "data": {
      "text/plain": [
       "array([1, 2, 5, 7, 8])"
      ]
     },
     "execution_count": 14,
     "metadata": {},
     "output_type": "execute_result"
    }
   ],
   "source": [
    "a"
   ]
  },
  {
   "cell_type": "code",
   "execution_count": 15,
   "id": "3ebd8ba1",
   "metadata": {},
   "outputs": [],
   "source": [
    "a_slice = a[1:5]\n",
    "a_slice[1] = 1000"
   ]
  },
  {
   "cell_type": "code",
   "execution_count": 16,
   "id": "c1fa4903",
   "metadata": {},
   "outputs": [
    {
     "data": {
      "text/plain": [
       "array([   1,    2, 1000,    7,    8])"
      ]
     },
     "execution_count": 16,
     "metadata": {},
     "output_type": "execute_result"
    }
   ],
   "source": [
    "a"
   ]
  },
  {
   "cell_type": "code",
   "execution_count": null,
   "id": "75c79e82",
   "metadata": {},
   "outputs": [],
   "source": []
  },
  {
   "cell_type": "code",
   "execution_count": 17,
   "id": "8bec84b3",
   "metadata": {},
   "outputs": [],
   "source": [
    "# If you want a copy of the data, you need to use the copy\n",
    "# method as"
   ]
  },
  {
   "cell_type": "code",
   "execution_count": 18,
   "id": "b9592b58",
   "metadata": {},
   "outputs": [],
   "source": [
    "another_slice = a[2:6].copy()"
   ]
  },
  {
   "cell_type": "code",
   "execution_count": 20,
   "id": "88ddbe12",
   "metadata": {},
   "outputs": [
    {
     "data": {
      "text/plain": [
       "array([1000,    0,    8])"
      ]
     },
     "execution_count": 20,
     "metadata": {},
     "output_type": "execute_result"
    }
   ],
   "source": [
    "another_slice[1] = 0 # modify\n",
    "another_slice"
   ]
  },
  {
   "cell_type": "code",
   "execution_count": 21,
   "id": "e0be9a40",
   "metadata": {},
   "outputs": [
    {
     "data": {
      "text/plain": [
       "array([   1,    2, 1000,    7,    8])"
      ]
     },
     "execution_count": 21,
     "metadata": {},
     "output_type": "execute_result"
    }
   ],
   "source": [
    "a  # remains unchanged"
   ]
  },
  {
   "cell_type": "code",
   "execution_count": null,
   "id": "67944547",
   "metadata": {},
   "outputs": [],
   "source": []
  }
 ],
 "metadata": {
  "kernelspec": {
   "display_name": "Python 3",
   "language": "python",
   "name": "python3"
  },
  "language_info": {
   "codemirror_mode": {
    "name": "ipython",
    "version": 3
   },
   "file_extension": ".py",
   "mimetype": "text/x-python",
   "name": "python",
   "nbconvert_exporter": "python",
   "pygments_lexer": "ipython3",
   "version": "3.8.8"
  }
 },
 "nbformat": 4,
 "nbformat_minor": 5
}
