{
 "cells": [
  {
   "cell_type": "code",
   "execution_count": 1,
   "id": "4962ebd6",
   "metadata": {},
   "outputs": [],
   "source": [
    "# Creating Numpy Arrays: n-d arrays"
   ]
  },
  {
   "cell_type": "code",
   "execution_count": 8,
   "id": "7fddc4b0",
   "metadata": {},
   "outputs": [],
   "source": [
    "import numpy as np"
   ]
  },
  {
   "cell_type": "code",
   "execution_count": 3,
   "id": "7e6b1a5e",
   "metadata": {},
   "outputs": [],
   "source": [
    "arr1 = np.array([1,2,3,4,5])"
   ]
  },
  {
   "cell_type": "code",
   "execution_count": 4,
   "id": "584ff0a9",
   "metadata": {},
   "outputs": [
    {
     "data": {
      "text/plain": [
       "numpy.ndarray"
      ]
     },
     "execution_count": 4,
     "metadata": {},
     "output_type": "execute_result"
    }
   ],
   "source": [
    "type(arr1)"
   ]
  },
  {
   "cell_type": "code",
   "execution_count": 7,
   "id": "fa810740",
   "metadata": {},
   "outputs": [],
   "source": [
    "arr2 = np.array([[1,2,3],[4,5,6]])"
   ]
  },
  {
   "cell_type": "code",
   "execution_count": 8,
   "id": "98f9d418",
   "metadata": {},
   "outputs": [
    {
     "data": {
      "text/plain": [
       "array([[1, 2, 3],\n",
       "       [4, 5, 6]])"
      ]
     },
     "execution_count": 8,
     "metadata": {},
     "output_type": "execute_result"
    }
   ],
   "source": [
    "arr2"
   ]
  },
  {
   "cell_type": "code",
   "execution_count": 10,
   "id": "f524fd1a",
   "metadata": {},
   "outputs": [],
   "source": [
    "arr3 = np.zeros((2,3))"
   ]
  },
  {
   "cell_type": "code",
   "execution_count": 11,
   "id": "60f7429c",
   "metadata": {},
   "outputs": [
    {
     "data": {
      "text/plain": [
       "array([[0., 0., 0.],\n",
       "       [0., 0., 0.]])"
      ]
     },
     "execution_count": 11,
     "metadata": {},
     "output_type": "execute_result"
    }
   ],
   "source": [
    "arr3"
   ]
  },
  {
   "cell_type": "code",
   "execution_count": 12,
   "id": "c71227bb",
   "metadata": {},
   "outputs": [],
   "source": [
    "arr4 = np.ones((4,5))"
   ]
  },
  {
   "cell_type": "code",
   "execution_count": 13,
   "id": "3996a72c",
   "metadata": {},
   "outputs": [
    {
     "data": {
      "text/plain": [
       "array([[1., 1., 1., 1., 1.],\n",
       "       [1., 1., 1., 1., 1.],\n",
       "       [1., 1., 1., 1., 1.],\n",
       "       [1., 1., 1., 1., 1.]])"
      ]
     },
     "execution_count": 13,
     "metadata": {},
     "output_type": "execute_result"
    }
   ],
   "source": [
    "arr4"
   ]
  },
  {
   "cell_type": "code",
   "execution_count": 3,
   "id": "f491a626",
   "metadata": {},
   "outputs": [],
   "source": [
    "arr_a = np.full((3,4),0.11)"
   ]
  },
  {
   "cell_type": "code",
   "execution_count": 4,
   "id": "45c005e2",
   "metadata": {},
   "outputs": [
    {
     "data": {
      "text/plain": [
       "array([[0.11, 0.11, 0.11, 0.11],\n",
       "       [0.11, 0.11, 0.11, 0.11],\n",
       "       [0.11, 0.11, 0.11, 0.11]])"
      ]
     },
     "execution_count": 4,
     "metadata": {},
     "output_type": "execute_result"
    }
   ],
   "source": [
    "arr_a"
   ]
  },
  {
   "cell_type": "code",
   "execution_count": 10,
   "id": "38643c8b",
   "metadata": {},
   "outputs": [
    {
     "data": {
      "text/plain": [
       "array([[0., 0., 0.],\n",
       "       [0., 0., 0.]])"
      ]
     },
     "execution_count": 10,
     "metadata": {},
     "output_type": "execute_result"
    }
   ],
   "source": [
    "np.empty((2,3)) # To create an uninitialised array with a given shape. \n",
    "                # Its content is not predictable."
   ]
  },
  {
   "cell_type": "code",
   "execution_count": null,
   "id": "2267e186",
   "metadata": {},
   "outputs": [],
   "source": []
  },
  {
   "cell_type": "code",
   "execution_count": null,
   "id": "27a3021f",
   "metadata": {},
   "outputs": [],
   "source": []
  },
  {
   "cell_type": "code",
   "execution_count": 14,
   "id": "ad3609e2",
   "metadata": {},
   "outputs": [],
   "source": [
    "arr5 = np.identity(5)"
   ]
  },
  {
   "cell_type": "code",
   "execution_count": 15,
   "id": "838b9aa6",
   "metadata": {},
   "outputs": [
    {
     "data": {
      "text/plain": [
       "array([[1., 0., 0., 0., 0.],\n",
       "       [0., 1., 0., 0., 0.],\n",
       "       [0., 0., 1., 0., 0.],\n",
       "       [0., 0., 0., 1., 0.],\n",
       "       [0., 0., 0., 0., 1.]])"
      ]
     },
     "execution_count": 15,
     "metadata": {},
     "output_type": "execute_result"
    }
   ],
   "source": [
    "arr5"
   ]
  },
  {
   "cell_type": "code",
   "execution_count": 20,
   "id": "2b15659f",
   "metadata": {},
   "outputs": [],
   "source": [
    "arr6 = np.arange(5,16,2)"
   ]
  },
  {
   "cell_type": "code",
   "execution_count": 21,
   "id": "a1e9cdea",
   "metadata": {},
   "outputs": [
    {
     "data": {
      "text/plain": [
       "array([ 5,  7,  9, 11, 13, 15])"
      ]
     },
     "execution_count": 21,
     "metadata": {},
     "output_type": "execute_result"
    }
   ],
   "source": [
    "arr6"
   ]
  },
  {
   "cell_type": "code",
   "execution_count": 22,
   "id": "8dc2bcba",
   "metadata": {},
   "outputs": [],
   "source": [
    "arr7 = np.linspace(5,50,25)"
   ]
  },
  {
   "cell_type": "code",
   "execution_count": 23,
   "id": "9d963ea8",
   "metadata": {},
   "outputs": [
    {
     "data": {
      "text/plain": [
       "array([ 5.   ,  6.875,  8.75 , 10.625, 12.5  , 14.375, 16.25 , 18.125,\n",
       "       20.   , 21.875, 23.75 , 25.625, 27.5  , 29.375, 31.25 , 33.125,\n",
       "       35.   , 36.875, 38.75 , 40.625, 42.5  , 44.375, 46.25 , 48.125,\n",
       "       50.   ])"
      ]
     },
     "execution_count": 23,
     "metadata": {},
     "output_type": "execute_result"
    }
   ],
   "source": [
    "arr7"
   ]
  },
  {
   "cell_type": "code",
   "execution_count": 24,
   "id": "363baf7a",
   "metadata": {},
   "outputs": [],
   "source": [
    "arr8 = arr7.copy()"
   ]
  },
  {
   "cell_type": "code",
   "execution_count": 25,
   "id": "8ebe1448",
   "metadata": {},
   "outputs": [
    {
     "data": {
      "text/plain": [
       "array([ 5.   ,  6.875,  8.75 , 10.625, 12.5  , 14.375, 16.25 , 18.125,\n",
       "       20.   , 21.875, 23.75 , 25.625, 27.5  , 29.375, 31.25 , 33.125,\n",
       "       35.   , 36.875, 38.75 , 40.625, 42.5  , 44.375, 46.25 , 48.125,\n",
       "       50.   ])"
      ]
     },
     "execution_count": 25,
     "metadata": {},
     "output_type": "execute_result"
    }
   ],
   "source": [
    "arr8"
   ]
  },
  {
   "cell_type": "code",
   "execution_count": null,
   "id": "830f777c",
   "metadata": {},
   "outputs": [],
   "source": []
  }
 ],
 "metadata": {
  "kernelspec": {
   "display_name": "Python 3",
   "language": "python",
   "name": "python3"
  },
  "language_info": {
   "codemirror_mode": {
    "name": "ipython",
    "version": 3
   },
   "file_extension": ".py",
   "mimetype": "text/x-python",
   "name": "python",
   "nbconvert_exporter": "python",
   "pygments_lexer": "ipython3",
   "version": "3.8.8"
  }
 },
 "nbformat": 4,
 "nbformat_minor": 5
}
