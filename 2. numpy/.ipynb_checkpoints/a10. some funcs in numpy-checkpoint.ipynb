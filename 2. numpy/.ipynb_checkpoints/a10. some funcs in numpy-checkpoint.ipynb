{
 "cells": [
  {
   "cell_type": "code",
   "execution_count": 1,
   "id": "c0f1d7fc",
   "metadata": {},
   "outputs": [],
   "source": [
    "import numpy as np"
   ]
  },
  {
   "cell_type": "code",
   "execution_count": 2,
   "id": "fed16b12",
   "metadata": {},
   "outputs": [],
   "source": [
    "# random module   "
   ]
  },
  {
   "cell_type": "code",
   "execution_count": 8,
   "id": "d81b190c",
   "metadata": {},
   "outputs": [
    {
     "data": {
      "text/plain": [
       "0.6336482349262754"
      ]
     },
     "execution_count": 8,
     "metadata": {},
     "output_type": "execute_result"
    }
   ],
   "source": [
    "np.random.random() # new random value from 0 to 1 for every run"
   ]
  },
  {
   "cell_type": "code",
   "execution_count": 6,
   "id": "1fd0c582",
   "metadata": {},
   "outputs": [
    {
     "data": {
      "text/plain": [
       "0.771320643266746"
      ]
     },
     "execution_count": 6,
     "metadata": {},
     "output_type": "execute_result"
    }
   ],
   "source": [
    "np.random.seed(10)  # same random value b/w 0 to 1 for every run\n",
    "np.random.random()"
   ]
  },
  {
   "cell_type": "code",
   "execution_count": null,
   "id": "8d1e1afa",
   "metadata": {},
   "outputs": [],
   "source": [
    "# to get an array of random numbers"
   ]
  },
  {
   "cell_type": "code",
   "execution_count": 16,
   "id": "7692fd5d",
   "metadata": {},
   "outputs": [],
   "source": [
    "a=np.random.uniform(1,100,10)  #random value in float b/w start,end,nof ele"
   ]
  },
  {
   "cell_type": "code",
   "execution_count": 17,
   "id": "9aa10b4e",
   "metadata": {},
   "outputs": [],
   "source": [
    "b=np.random.randint(1,100,10)   #random value in int b/w start,end,nof ele"
   ]
  },
  {
   "cell_type": "code",
   "execution_count": 66,
   "id": "73d72181",
   "metadata": {},
   "outputs": [
    {
     "data": {
      "text/plain": [
       "array([[0.31827281, 0.51979699, 0.57813643],\n",
       "       [0.85393375, 0.06809727, 0.46453081]])"
      ]
     },
     "execution_count": 66,
     "metadata": {},
     "output_type": "execute_result"
    }
   ],
   "source": [
    "np.random.rand(2,3)            # ndarray of random float values b/w 0 - 1 "
   ]
  },
  {
   "cell_type": "code",
   "execution_count": null,
   "id": "b51fadd8",
   "metadata": {},
   "outputs": [],
   "source": []
  },
  {
   "cell_type": "code",
   "execution_count": 18,
   "id": "c48f4b58",
   "metadata": {},
   "outputs": [
    {
     "data": {
      "text/plain": [
       "41"
      ]
     },
     "execution_count": 18,
     "metadata": {},
     "output_type": "execute_result"
    }
   ],
   "source": [
    "np.min(b)"
   ]
  },
  {
   "cell_type": "code",
   "execution_count": 20,
   "id": "fe3d4c2b",
   "metadata": {},
   "outputs": [
    {
     "data": {
      "text/plain": [
       "9"
      ]
     },
     "execution_count": 20,
     "metadata": {},
     "output_type": "execute_result"
    }
   ],
   "source": [
    "np.argmin(b)   # gives the index of min in array"
   ]
  },
  {
   "cell_type": "code",
   "execution_count": null,
   "id": "6ee5fb53",
   "metadata": {},
   "outputs": [],
   "source": []
  },
  {
   "cell_type": "code",
   "execution_count": null,
   "id": "0af8b58c",
   "metadata": {},
   "outputs": [],
   "source": []
  },
  {
   "cell_type": "code",
   "execution_count": 22,
   "id": "762dcc90",
   "metadata": {},
   "outputs": [],
   "source": [
    "arr = np.random.randint(1,10,6)"
   ]
  },
  {
   "cell_type": "code",
   "execution_count": 24,
   "id": "90ec9c0c",
   "metadata": {},
   "outputs": [],
   "source": [
    "arr[arr%2 == 1] = -1"
   ]
  },
  {
   "cell_type": "code",
   "execution_count": 25,
   "id": "da3da59c",
   "metadata": {},
   "outputs": [
    {
     "data": {
      "text/plain": [
       "array([ 6, -1, -1,  8,  4, -1])"
      ]
     },
     "execution_count": 25,
     "metadata": {},
     "output_type": "execute_result"
    }
   ],
   "source": [
    "arr"
   ]
  },
  {
   "cell_type": "code",
   "execution_count": 26,
   "id": "620b92d9",
   "metadata": {},
   "outputs": [],
   "source": [
    "# Now if we donot want to replace the array itself"
   ]
  },
  {
   "cell_type": "code",
   "execution_count": 27,
   "id": "873e1ae1",
   "metadata": {},
   "outputs": [],
   "source": [
    "# where(condition,True-st,False-st)"
   ]
  },
  {
   "cell_type": "code",
   "execution_count": 40,
   "id": "fd405c19",
   "metadata": {},
   "outputs": [],
   "source": [
    "arr = np.random.randint(1,10,6)"
   ]
  },
  {
   "cell_type": "code",
   "execution_count": 41,
   "id": "5953102a",
   "metadata": {},
   "outputs": [
    {
     "data": {
      "text/plain": [
       "array([3, 6, 1, 2, 1, 2])"
      ]
     },
     "execution_count": 41,
     "metadata": {},
     "output_type": "execute_result"
    }
   ],
   "source": [
    "arr"
   ]
  },
  {
   "cell_type": "code",
   "execution_count": 42,
   "id": "457e5c76",
   "metadata": {},
   "outputs": [],
   "source": [
    "new_arr = np.where(arr%2==1,-1,arr)"
   ]
  },
  {
   "cell_type": "code",
   "execution_count": 43,
   "id": "a5f76438",
   "metadata": {},
   "outputs": [
    {
     "data": {
      "text/plain": [
       "array([-1,  6, -1,  2, -1,  2])"
      ]
     },
     "execution_count": 43,
     "metadata": {},
     "output_type": "execute_result"
    }
   ],
   "source": [
    "new_arr"
   ]
  },
  {
   "cell_type": "code",
   "execution_count": 44,
   "id": "cee1d50c",
   "metadata": {},
   "outputs": [
    {
     "data": {
      "text/plain": [
       "array([3, 6, 1, 2, 1, 2])"
      ]
     },
     "execution_count": 44,
     "metadata": {},
     "output_type": "execute_result"
    }
   ],
   "source": [
    "arr"
   ]
  },
  {
   "cell_type": "code",
   "execution_count": null,
   "id": "02c55c68",
   "metadata": {},
   "outputs": [],
   "source": []
  },
  {
   "cell_type": "code",
   "execution_count": null,
   "id": "a9cf980c",
   "metadata": {},
   "outputs": [],
   "source": [
    "#sorting"
   ]
  },
  {
   "cell_type": "code",
   "execution_count": 58,
   "id": "a379442d",
   "metadata": {},
   "outputs": [],
   "source": [
    "arr2 = np.random.randint(1,100,10)"
   ]
  },
  {
   "cell_type": "code",
   "execution_count": 59,
   "id": "080955f5",
   "metadata": {},
   "outputs": [
    {
     "data": {
      "text/plain": [
       "array([28, 83, 63, 78, 49, 94, 76, 87, 38, 12])"
      ]
     },
     "execution_count": 59,
     "metadata": {},
     "output_type": "execute_result"
    }
   ],
   "source": [
    "arr2"
   ]
  },
  {
   "cell_type": "code",
   "execution_count": 60,
   "id": "860ea152",
   "metadata": {},
   "outputs": [],
   "source": [
    "new_arr2 = np.sort(arr2)   # sorting the array from low to high"
   ]
  },
  {
   "cell_type": "code",
   "execution_count": 61,
   "id": "7934ce47",
   "metadata": {},
   "outputs": [
    {
     "data": {
      "text/plain": [
       "array([28, 83, 63, 78, 49, 94, 76, 87, 38, 12])"
      ]
     },
     "execution_count": 61,
     "metadata": {},
     "output_type": "execute_result"
    }
   ],
   "source": [
    "arr2"
   ]
  },
  {
   "cell_type": "code",
   "execution_count": 62,
   "id": "f53e62d8",
   "metadata": {},
   "outputs": [
    {
     "data": {
      "text/plain": [
       "array([12, 28, 38, 49, 63, 76, 78, 83, 87, 94])"
      ]
     },
     "execution_count": 62,
     "metadata": {},
     "output_type": "execute_result"
    }
   ],
   "source": [
    "new_arr2"
   ]
  },
  {
   "cell_type": "code",
   "execution_count": 63,
   "id": "7ebc3ac2",
   "metadata": {},
   "outputs": [
    {
     "data": {
      "text/plain": [
       "10"
      ]
     },
     "execution_count": 63,
     "metadata": {},
     "output_type": "execute_result"
    }
   ],
   "source": [
    "new_arr2.size"
   ]
  },
  {
   "cell_type": "code",
   "execution_count": 64,
   "id": "c1c47cf6",
   "metadata": {},
   "outputs": [],
   "source": [
    "#'n' percentile-to get a value which is >= n% values in the list"
   ]
  },
  {
   "cell_type": "code",
   "execution_count": 65,
   "id": "af516033",
   "metadata": {},
   "outputs": [
    {
     "data": {
      "text/plain": [
       "69.5"
      ]
     },
     "execution_count": 65,
     "metadata": {},
     "output_type": "execute_result"
    }
   ],
   "source": [
    "np.percentile(new_arr2,50) # -> np.percentile(array,n) -> n percentile"
   ]
  },
  {
   "cell_type": "code",
   "execution_count": null,
   "id": "bc7ed2f3",
   "metadata": {},
   "outputs": [],
   "source": []
  }
 ],
 "metadata": {
  "kernelspec": {
   "display_name": "Python 3",
   "language": "python",
   "name": "python3"
  },
  "language_info": {
   "codemirror_mode": {
    "name": "ipython",
    "version": 3
   },
   "file_extension": ".py",
   "mimetype": "text/x-python",
   "name": "python",
   "nbconvert_exporter": "python",
   "pygments_lexer": "ipython3",
   "version": "3.8.8"
  }
 },
 "nbformat": 4,
 "nbformat_minor": 5
}
