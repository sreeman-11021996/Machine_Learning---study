{
 "cells": [
  {
   "cell_type": "code",
   "execution_count": 1,
   "id": "cdc835bd",
   "metadata": {},
   "outputs": [],
   "source": [
    "import numpy as np\n",
    "import matplotlib.pyplot as plt\n",
    "%matplotlib inline"
   ]
  },
  {
   "cell_type": "code",
   "execution_count": 2,
   "id": "6a3490af",
   "metadata": {},
   "outputs": [],
   "source": [
    "dataset= [11,10,12,14,12,15,14,13,15,102,12,14,17,19,107, 10,13,12,14,12,\n",
    "          108,12,11,14,13,15,10,15,12,10,14,13,15,10]"
   ]
  },
  {
   "cell_type": "code",
   "execution_count": null,
   "id": "9f33557a",
   "metadata": {},
   "outputs": [],
   "source": []
  },
  {
   "cell_type": "markdown",
   "id": "b326ff2b",
   "metadata": {},
   "source": [
    "### Z-Score"
   ]
  },
  {
   "cell_type": "code",
   "execution_count": 4,
   "id": "5c1964b8",
   "metadata": {},
   "outputs": [],
   "source": [
    "def detect_outlierrs(dataset):\n",
    "    THRESHOLD = 3\n",
    "    outliers=[]\n",
    "    \n",
    "    mean = np.mean(dataset)\n",
    "    std = np.std(dataset)\n",
    "    \n",
    "    for i in dataset:\n",
    "        z_score = (i-mean)/std\n",
    "        if z_score > THRESHOLD:\n",
    "            outliers.append(i)\n",
    "    return outliers"
   ]
  },
  {
   "cell_type": "code",
   "execution_count": 5,
   "id": "5380d618",
   "metadata": {},
   "outputs": [],
   "source": [
    "outliers = detect_outlierrs(dataset)"
   ]
  },
  {
   "cell_type": "code",
   "execution_count": 6,
   "id": "d8cea5f2",
   "metadata": {},
   "outputs": [
    {
     "data": {
      "text/plain": [
       "[102, 107, 108]"
      ]
     },
     "execution_count": 6,
     "metadata": {},
     "output_type": "execute_result"
    }
   ],
   "source": [
    "outliers"
   ]
  },
  {
   "cell_type": "code",
   "execution_count": null,
   "id": "ccb72936",
   "metadata": {},
   "outputs": [],
   "source": []
  },
  {
   "cell_type": "markdown",
   "id": "0b9b7391",
   "metadata": {},
   "source": [
    "### Inter-Quartile-Range"
   ]
  },
  {
   "cell_type": "code",
   "execution_count": 14,
   "id": "b15eda67",
   "metadata": {},
   "outputs": [],
   "source": [
    "def detect_outliers_iqr(dataset):\n",
    "    outliers=[]\n",
    "    \n",
    "    Q1,Q3 = np.percentile(dataset,[25,75])\n",
    "    IQR = Q3 - Q1\n",
    "    lower_bound = Q1 - (1.5*IQR)\n",
    "    upper_bound = Q3 + (1.5*IQR)\n",
    "    \n",
    "    for i in dataset:\n",
    "        if i<lower_bound or i>upper_bound:\n",
    "            outliers.append(i)\n",
    "    return outliers"
   ]
  },
  {
   "cell_type": "code",
   "execution_count": 15,
   "id": "797ca558",
   "metadata": {},
   "outputs": [
    {
     "data": {
      "text/plain": [
       "[102, 107, 108]"
      ]
     },
     "execution_count": 15,
     "metadata": {},
     "output_type": "execute_result"
    }
   ],
   "source": [
    "detect_outliers_iqr(dataset)"
   ]
  },
  {
   "cell_type": "code",
   "execution_count": 7,
   "id": "5dad0488",
   "metadata": {},
   "outputs": [],
   "source": [
    "Q1,Q3 = np.percentile(dataset,[25,75])"
   ]
  },
  {
   "cell_type": "code",
   "execution_count": 9,
   "id": "7c16db2f",
   "metadata": {},
   "outputs": [
    {
     "data": {
      "text/plain": [
       "(12.0, 15.0)"
      ]
     },
     "execution_count": 9,
     "metadata": {},
     "output_type": "execute_result"
    }
   ],
   "source": [
    "Q1,Q3"
   ]
  },
  {
   "cell_type": "code",
   "execution_count": 11,
   "id": "526312de",
   "metadata": {},
   "outputs": [
    {
     "data": {
      "text/plain": [
       "3.0"
      ]
     },
     "execution_count": 11,
     "metadata": {},
     "output_type": "execute_result"
    }
   ],
   "source": [
    "IQR = Q3 - Q1\n",
    "IQR"
   ]
  },
  {
   "cell_type": "code",
   "execution_count": 12,
   "id": "4280371d",
   "metadata": {},
   "outputs": [],
   "source": [
    "lower_bound = Q1 - (1.5*IQR)\n",
    "upper_bound = Q3 + (1.5*IQR)"
   ]
  },
  {
   "cell_type": "code",
   "execution_count": 13,
   "id": "da4607a5",
   "metadata": {},
   "outputs": [
    {
     "data": {
      "text/plain": [
       "(7.5, 19.5)"
      ]
     },
     "execution_count": 13,
     "metadata": {},
     "output_type": "execute_result"
    }
   ],
   "source": [
    "lower_bound,upper_bound"
   ]
  },
  {
   "cell_type": "code",
   "execution_count": null,
   "id": "dd9fa0e5",
   "metadata": {},
   "outputs": [],
   "source": []
  }
 ],
 "metadata": {
  "kernelspec": {
   "display_name": "Python 3",
   "language": "python",
   "name": "python3"
  },
  "language_info": {
   "codemirror_mode": {
    "name": "ipython",
    "version": 3
   },
   "file_extension": ".py",
   "mimetype": "text/x-python",
   "name": "python",
   "nbconvert_exporter": "python",
   "pygments_lexer": "ipython3",
   "version": "3.8.8"
  }
 },
 "nbformat": 4,
 "nbformat_minor": 5
}
