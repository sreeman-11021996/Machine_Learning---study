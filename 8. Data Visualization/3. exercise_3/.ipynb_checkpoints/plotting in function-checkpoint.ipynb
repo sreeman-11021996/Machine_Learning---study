{
 "cells": [
  {
   "cell_type": "code",
   "execution_count": 1,
   "id": "d570b2ec",
   "metadata": {},
   "outputs": [],
   "source": [
    "import pandas as pd\n",
    "import seaborn as sns\n",
    "import matplotlib.pyplot as plt\n",
    "import numpy as np"
   ]
  },
  {
   "cell_type": "code",
   "execution_count": null,
   "id": "8ccc7682",
   "metadata": {},
   "outputs": [],
   "source": []
  },
  {
   "cell_type": "code",
   "execution_count": 2,
   "id": "5caae705",
   "metadata": {},
   "outputs": [],
   "source": [
    "# Draw Categorical Plot"
   ]
  },
  {
   "cell_type": "code",
   "execution_count": 96,
   "id": "f7bea8f0",
   "metadata": {},
   "outputs": [],
   "source": [
    "def draw_cat_plot():\n",
    "    # Create DataFrame for cat plot using `pd.melt` using just the values from \n",
    "    # 'cholesterol', 'gluc', 'smoke', 'alco', 'active', and 'overweight'.\n",
    "    df_cat = pd.melt(df,id_vars=['cardio'],value_vars=['active','alco','cholesterol','gluc',\n",
    "                                                  'overweight','smoke'])\n",
    "    # Draw the catplot with 'sns.catplot()'\n",
    "    graph =sns.catplot(x='variable',data=df_cat,kind='count',col='cardio',hue='value')\n",
    "    graph.set_axis_labels(x_var='variable',y_var='total')\n",
    "    \n",
    "    # convert catplot to figure\n",
    "    fig = graph.fig\n",
    "    \n",
    "    # Do not modify the next two lines\n",
    "    fig.savefig('catplot.png')\n",
    "    return fig"
   ]
  },
  {
   "cell_type": "code",
   "execution_count": null,
   "id": "4ab018b9",
   "metadata": {},
   "outputs": [],
   "source": []
  },
  {
   "cell_type": "code",
   "execution_count": 97,
   "id": "06c55184",
   "metadata": {},
   "outputs": [],
   "source": [
    "# Draw Heat Map"
   ]
  },
  {
   "cell_type": "code",
   "execution_count": 98,
   "id": "ae5ae584",
   "metadata": {},
   "outputs": [],
   "source": [
    "def draw_heat_map():\n",
    "    # Clean the data\n",
    "    mask_dis_pr = (df['ap_lo'] <= df['ap_hi'])\n",
    "    mask_h_2_5_per = (df['height'] >= df['height'].quantile(0.025))\n",
    "    mask_h_97_5_per = (df['height'] <= df['height'].quantile(0.975))\n",
    "    mask_w_2_5_per = (df['weight'] >= df['weight'].quantile(0.025))\n",
    "    mask_w_97_5_per = (df['weight'] <= df['weight'].quantile(0.975))\n",
    "    df_heat = df[mask_dis_pr & mask_h_2_5_per & mask_h_97_5_per & mask_w_2_5_per & mask_w_97_5_per]\n",
    "    \n",
    "    # Calculate the correlation matrix\n",
    "    corr = df_heat.corr()\n",
    "\n",
    "    # Generate a mask for the upper triangle\n",
    "    mask = np.triu(np.ones_like(corr,dtype=bool))\n",
    "    \n",
    "    # set up matplotlib figure\n",
    "    fig , ax = plt.subplots()\n",
    "    \n",
    "    # Draw the heatmap with 'sns.heatmap()'\n",
    "    graph = sns.heatmap(corr,annot=True,fmt='.1f',mask=mask,linewidths=1)\n",
    "    graph.figure.set_size_inches(15,15)\n",
    "\n",
    "    # Do not modify the next two lines\n",
    "    fig.savefig('heatmap.png')\n",
    "    return fig"
   ]
  },
  {
   "cell_type": "code",
   "execution_count": null,
   "id": "62fc3c23",
   "metadata": {},
   "outputs": [],
   "source": []
  },
  {
   "cell_type": "code",
   "execution_count": 99,
   "id": "e9ef386a",
   "metadata": {},
   "outputs": [],
   "source": [
    "# Import data\n",
    "df = pd.read_csv('medical_examination.csv')"
   ]
  },
  {
   "cell_type": "code",
   "execution_count": 100,
   "id": "dce9fd9e",
   "metadata": {},
   "outputs": [],
   "source": [
    "# correcting height to m\n",
    "df['height'] = df['height']/100"
   ]
  },
  {
   "cell_type": "code",
   "execution_count": null,
   "id": "b64a95c2",
   "metadata": {},
   "outputs": [],
   "source": []
  },
  {
   "cell_type": "code",
   "execution_count": 101,
   "id": "5ce14f21",
   "metadata": {},
   "outputs": [],
   "source": [
    "# finding a BMI series\n",
    "overweight = round(df['weight']/(df['height']**2),2)\n",
    "\n",
    "# Add 'overweight' column\n",
    "df['overweight'] = (overweight>25).astype(int)"
   ]
  },
  {
   "cell_type": "code",
   "execution_count": 102,
   "id": "c84a8610",
   "metadata": {},
   "outputs": [
    {
     "data": {
      "text/html": [
       "<div>\n",
       "<style scoped>\n",
       "    .dataframe tbody tr th:only-of-type {\n",
       "        vertical-align: middle;\n",
       "    }\n",
       "\n",
       "    .dataframe tbody tr th {\n",
       "        vertical-align: top;\n",
       "    }\n",
       "\n",
       "    .dataframe thead th {\n",
       "        text-align: right;\n",
       "    }\n",
       "</style>\n",
       "<table border=\"1\" class=\"dataframe\">\n",
       "  <thead>\n",
       "    <tr style=\"text-align: right;\">\n",
       "      <th></th>\n",
       "      <th>id</th>\n",
       "      <th>age</th>\n",
       "      <th>gender</th>\n",
       "      <th>height</th>\n",
       "      <th>weight</th>\n",
       "      <th>ap_hi</th>\n",
       "      <th>ap_lo</th>\n",
       "      <th>cholesterol</th>\n",
       "      <th>gluc</th>\n",
       "      <th>smoke</th>\n",
       "      <th>alco</th>\n",
       "      <th>active</th>\n",
       "      <th>cardio</th>\n",
       "      <th>overweight</th>\n",
       "    </tr>\n",
       "  </thead>\n",
       "  <tbody>\n",
       "    <tr>\n",
       "      <th>0</th>\n",
       "      <td>0</td>\n",
       "      <td>18393</td>\n",
       "      <td>2</td>\n",
       "      <td>1.68</td>\n",
       "      <td>62.0</td>\n",
       "      <td>110</td>\n",
       "      <td>80</td>\n",
       "      <td>1</td>\n",
       "      <td>1</td>\n",
       "      <td>0</td>\n",
       "      <td>0</td>\n",
       "      <td>1</td>\n",
       "      <td>0</td>\n",
       "      <td>0</td>\n",
       "    </tr>\n",
       "    <tr>\n",
       "      <th>1</th>\n",
       "      <td>1</td>\n",
       "      <td>20228</td>\n",
       "      <td>1</td>\n",
       "      <td>1.56</td>\n",
       "      <td>85.0</td>\n",
       "      <td>140</td>\n",
       "      <td>90</td>\n",
       "      <td>3</td>\n",
       "      <td>1</td>\n",
       "      <td>0</td>\n",
       "      <td>0</td>\n",
       "      <td>1</td>\n",
       "      <td>1</td>\n",
       "      <td>1</td>\n",
       "    </tr>\n",
       "    <tr>\n",
       "      <th>2</th>\n",
       "      <td>2</td>\n",
       "      <td>18857</td>\n",
       "      <td>1</td>\n",
       "      <td>1.65</td>\n",
       "      <td>64.0</td>\n",
       "      <td>130</td>\n",
       "      <td>70</td>\n",
       "      <td>3</td>\n",
       "      <td>1</td>\n",
       "      <td>0</td>\n",
       "      <td>0</td>\n",
       "      <td>0</td>\n",
       "      <td>1</td>\n",
       "      <td>0</td>\n",
       "    </tr>\n",
       "    <tr>\n",
       "      <th>3</th>\n",
       "      <td>3</td>\n",
       "      <td>17623</td>\n",
       "      <td>2</td>\n",
       "      <td>1.69</td>\n",
       "      <td>82.0</td>\n",
       "      <td>150</td>\n",
       "      <td>100</td>\n",
       "      <td>1</td>\n",
       "      <td>1</td>\n",
       "      <td>0</td>\n",
       "      <td>0</td>\n",
       "      <td>1</td>\n",
       "      <td>1</td>\n",
       "      <td>1</td>\n",
       "    </tr>\n",
       "    <tr>\n",
       "      <th>4</th>\n",
       "      <td>4</td>\n",
       "      <td>17474</td>\n",
       "      <td>1</td>\n",
       "      <td>1.56</td>\n",
       "      <td>56.0</td>\n",
       "      <td>100</td>\n",
       "      <td>60</td>\n",
       "      <td>1</td>\n",
       "      <td>1</td>\n",
       "      <td>0</td>\n",
       "      <td>0</td>\n",
       "      <td>0</td>\n",
       "      <td>0</td>\n",
       "      <td>0</td>\n",
       "    </tr>\n",
       "  </tbody>\n",
       "</table>\n",
       "</div>"
      ],
      "text/plain": [
       "   id    age  gender  height  weight  ap_hi  ap_lo  cholesterol  gluc  smoke  \\\n",
       "0   0  18393       2    1.68    62.0    110     80            1     1      0   \n",
       "1   1  20228       1    1.56    85.0    140     90            3     1      0   \n",
       "2   2  18857       1    1.65    64.0    130     70            3     1      0   \n",
       "3   3  17623       2    1.69    82.0    150    100            1     1      0   \n",
       "4   4  17474       1    1.56    56.0    100     60            1     1      0   \n",
       "\n",
       "   alco  active  cardio  overweight  \n",
       "0     0       1       0           0  \n",
       "1     0       1       1           1  \n",
       "2     0       0       1           0  \n",
       "3     0       1       1           1  \n",
       "4     0       0       0           0  "
      ]
     },
     "execution_count": 102,
     "metadata": {},
     "output_type": "execute_result"
    }
   ],
   "source": [
    "df.head()"
   ]
  },
  {
   "cell_type": "code",
   "execution_count": 103,
   "id": "c813020c",
   "metadata": {},
   "outputs": [],
   "source": [
    "# normalize cholesterol and gluc column"
   ]
  },
  {
   "cell_type": "code",
   "execution_count": 104,
   "id": "1f1c8abb",
   "metadata": {},
   "outputs": [],
   "source": [
    "normal = df[['cholesterol','gluc']] > 1\n",
    "df[['cholesterol','gluc']] = normal.astype(int)"
   ]
  },
  {
   "cell_type": "code",
   "execution_count": null,
   "id": "54289342",
   "metadata": {},
   "outputs": [],
   "source": []
  },
  {
   "cell_type": "code",
   "execution_count": 105,
   "id": "0bda2034",
   "metadata": {},
   "outputs": [
    {
     "data": {
      "image/png": "[encoded data removed]",
      "text/plain": [
       "<Figure size 762.375x360 with 2 Axes>"
      ]
     },
     "metadata": {
      "needs_background": "light"
     },
     "output_type": "display_data"
    }
   ],
   "source": [
    "fig1 = draw_cat_plot()"
   ]
  },
  {
   "cell_type": "code",
   "execution_count": 106,
   "id": "d0e5e4b3",
   "metadata": {},
   "outputs": [],
   "source": [
    "ax = fig1.axes[0]"
   ]
  },
  {
   "cell_type": "code",
   "execution_count": 107,
   "id": "9e91fae8",
   "metadata": {},
   "outputs": [
    {
     "data": {
      "text/plain": [
       "'variable'"
      ]
     },
     "execution_count": 107,
     "metadata": {},
     "output_type": "execute_result"
    }
   ],
   "source": [
    "ax.get_xlabel()"
   ]
  },
  {
   "cell_type": "code",
   "execution_count": 108,
   "id": "7bfb3298",
   "metadata": {},
   "outputs": [
    {
     "data": {
      "text/plain": [
       "['active', 'alco', 'cholesterol', 'gluc', 'overweight', 'smoke']"
      ]
     },
     "execution_count": 108,
     "metadata": {},
     "output_type": "execute_result"
    }
   ],
   "source": [
    "actual=[]\n",
    "for label in ax.get_xaxis().get_majorticklabels():\n",
    "            actual.append(label.get_text())\n",
    "actual"
   ]
  },
  {
   "cell_type": "code",
   "execution_count": 109,
   "id": "60e560c4",
   "metadata": {},
   "outputs": [],
   "source": [
    "import matplotlib as mpl"
   ]
  },
  {
   "cell_type": "code",
   "execution_count": 110,
   "id": "0f0aba0c",
   "metadata": {},
   "outputs": [
    {
     "data": {
      "text/plain": [
       "13"
      ]
     },
     "execution_count": 110,
     "metadata": {},
     "output_type": "execute_result"
    }
   ],
   "source": [
    "actual2 = len([rect for rect in ax.get_children() \n",
    "              if isinstance(rect, mpl.patches.Rectangle)])\n",
    "actual2"
   ]
  },
  {
   "cell_type": "code",
   "execution_count": 111,
   "id": "511f757e",
   "metadata": {},
   "outputs": [
    {
     "data": {
      "image/png": "[encoded data removed]",
      "text/plain": [
       "<Figure size 1080x1080 with 2 Axes>"
      ]
     },
     "metadata": {
      "needs_background": "light"
     },
     "output_type": "display_data"
    }
   ],
   "source": [
    "fig2 = draw_heat_map()"
   ]
  },
  {
   "cell_type": "code",
   "execution_count": 112,
   "id": "47a0f3e0",
   "metadata": {},
   "outputs": [],
   "source": [
    "ax2 = fig2.axes[0]"
   ]
  },
  {
   "cell_type": "code",
   "execution_count": 113,
   "id": "31fb6a2d",
   "metadata": {},
   "outputs": [
    {
     "data": {
      "text/plain": [
       "['id',\n",
       " 'age',\n",
       " 'gender',\n",
       " 'height',\n",
       " 'weight',\n",
       " 'ap_hi',\n",
       " 'ap_lo',\n",
       " 'cholesterol',\n",
       " 'gluc',\n",
       " 'smoke',\n",
       " 'alco',\n",
       " 'active',\n",
       " 'cardio',\n",
       " 'overweight']"
      ]
     },
     "execution_count": 113,
     "metadata": {},
     "output_type": "execute_result"
    }
   ],
   "source": [
    "actual3 = []\n",
    "for label in ax2.get_xticklabels():\n",
    "    actual3.append(label.get_text())\n",
    "actual3"
   ]
  },
  {
   "cell_type": "code",
   "execution_count": 114,
   "id": "3aa9454a",
   "metadata": {},
   "outputs": [
    {
     "data": {
      "text/plain": [
       "91"
      ]
     },
     "execution_count": 114,
     "metadata": {},
     "output_type": "execute_result"
    }
   ],
   "source": [
    "actual4 = [text.get_text() for text in ax2.get_default_bbox_extra_artists() if isinstance(text, mpl.text.Text)]\n",
    "len(actual4)"
   ]
  },
  {
   "cell_type": "code",
   "execution_count": 115,
   "id": "a4693262",
   "metadata": {},
   "outputs": [
    {
     "data": {
      "text/plain": [
       "['0.0', '0.0', '-0.0', '0.0', '-0.1', '0.5', '0.0', '0.1', '0.1', '0.3']"
      ]
     },
     "execution_count": 115,
     "metadata": {},
     "output_type": "execute_result"
    }
   ],
   "source": [
    "actual4[:10]"
   ]
  },
  {
   "cell_type": "code",
   "execution_count": 116,
   "id": "f1120e08",
   "metadata": {},
   "outputs": [],
   "source": [
    "expected = ['0.0', '0.0', '-0.0', '0.0', '-0.1', '0.5', '0.0', '0.1', \n",
    "            '0.1', '0.3', '0.0', '0.0', '0.0', '0.0', '0.0', '0.0', '0.2',\n",
    "            '0.1', '0.0', '0.2', '0.1', '0.0', '0.1', '-0.0', '-0.1', '0.1',\n",
    "            '0.0', '0.2', '0.0', '0.1', '-0.0', '-0.0', '0.1', '0.0', '0.1',\n",
    "            '0.4', '-0.0', '-0.0', '0.3', '0.2', '0.1', '-0.0', '0.0', \n",
    "            '0.0', '-0.0', '-0.0', '-0.0', '0.2', '0.1', '0.1', '0.0', \n",
    "            '0.0', '0.0', '0.0', '0.3', '0.0', '-0.0', '0.0', '-0.0', \n",
    "            '-0.0', '-0.0', '0.0', '0.0', '-0.0', '0.0', '0.0', '0.0', \n",
    "            '0.2', '0.0', '-0.0', '0.2', '0.1', '0.3', '0.2', '0.1', \n",
    "            '-0.0', '-0.0', '-0.0', '-0.0', '0.1', '-0.1', '-0.1', '0.7', \n",
    "            '0.0', '0.2', '0.1', '0.1', '-0.0', '0.0', '-0.0', '0.1']"
   ]
  },
  {
   "cell_type": "code",
   "execution_count": 117,
   "id": "aae4f9be",
   "metadata": {},
   "outputs": [
    {
     "data": {
      "text/plain": [
       "91"
      ]
     },
     "execution_count": 117,
     "metadata": {},
     "output_type": "execute_result"
    }
   ],
   "source": [
    "len(expected)"
   ]
  },
  {
   "cell_type": "code",
   "execution_count": 118,
   "id": "74a8a7e5",
   "metadata": {},
   "outputs": [
    {
     "data": {
      "text/plain": [
       "True"
      ]
     },
     "execution_count": 118,
     "metadata": {},
     "output_type": "execute_result"
    }
   ],
   "source": [
    "expected == (actual4)"
   ]
  },
  {
   "cell_type": "code",
   "execution_count": 119,
   "id": "429cf138",
   "metadata": {},
   "outputs": [
    {
     "name": "stdout",
     "output_type": "stream",
     "text": [
      "['0.0', '0.0', '-0.0', '0.0', '-0.1', '0.5', '0.0', '0.1', '0.1', '0.3', '0.0', '0.0', '0.0', '0.0', '0.0', '0.0', '0.2', '0.1', '0.0', '0.2', '0.1', '0.0', '0.1', '-0.0', '-0.1', '0.1', '0.0', '0.2', '0.0', '0.1', '-0.0', '-0.0', '0.1', '0.0', '0.1', '0.4', '-0.0', '-0.0', '0.3', '0.2', '0.1', '-0.0', '0.0', '0.0', '-0.0', '-0.0', '-0.0', '0.2', '0.1', '0.1', '0.0', '0.0', '0.0', '0.0', '0.3', '0.0', '-0.0', '0.0', '-0.0', '-0.0', '-0.0', '0.0', '0.0', '-0.0', '0.0', '0.0', '0.0', '0.2', '0.0', '-0.0', '0.2', '0.1', '0.3', '0.2', '0.1', '-0.0', '-0.0', '-0.0', '-0.0', '0.1', '-0.1', '-0.1', '0.7', '0.0', '0.2', '0.1', '0.1', '-0.0', '0.0', '-0.0', '0.1']\n"
     ]
    }
   ],
   "source": [
    "act = [text.get_text() for text in ax2.get_default_bbox_extra_artists() if isinstance(text, mpl.text.Text)]\n",
    "print(act)\n",
    "expected = ['0.0', '0.0', '-0.0', '0.0', '-0.1', '0.5', '0.0', '0.1', '0.1', '0.3', '0.0', '0.0', '0.0', '0.0', '0.0', '0.0', '0.2', '0.1', '0.0', '0.2', '0.1', '0.0', '0.1', '-0.0', '-0.1', '0.1', '0.0', '0.2', '0.0', '0.1', '-0.0', '-0.0', '0.1', '0.0', '0.1', '0.4', '-0.0', '-0.0', '0.3', '0.2', '0.1', '-0.0', '0.0', '0.0', '-0.0', '-0.0', '-0.0', '0.2', '0.1', '0.1', '0.0', '0.0', '0.0', '0.0', '0.3', '0.0', '-0.0', '0.0', '-0.0', '-0.0', '-0.0', '0.0', '0.0', '-0.0', '0.0', '0.0', '0.0', '0.2', '0.0', '-0.0', '0.2', '0.1', '0.3', '0.2', '0.1', '-0.0', '-0.0', '-0.0', '-0.0', '0.1', '-0.1', '-0.1', '0.7', '0.0', '0.2', '0.1', '0.1', '-0.0', '0.0', '-0.0', '0.1']"
   ]
  },
  {
   "cell_type": "code",
   "execution_count": 120,
   "id": "43e1e32d",
   "metadata": {},
   "outputs": [
    {
     "data": {
      "text/plain": [
       "True"
      ]
     },
     "execution_count": 120,
     "metadata": {},
     "output_type": "execute_result"
    }
   ],
   "source": [
    "act == expected"
   ]
  },
  {
   "cell_type": "code",
   "execution_count": null,
   "id": "044789c5",
   "metadata": {},
   "outputs": [],
   "source": []
  },
  {
   "cell_type": "code",
   "execution_count": null,
   "id": "0c89445f",
   "metadata": {},
   "outputs": [],
   "source": []
  }
 ],
 "metadata": {
  "kernelspec": {
   "display_name": "Python 3",
   "language": "python",
   "name": "python3"
  },
  "language_info": {
   "codemirror_mode": {
    "name": "ipython",
    "version": 3
   },
   "file_extension": ".py",
   "mimetype": "text/x-python",
   "name": "python",
   "nbconvert_exporter": "python",
   "pygments_lexer": "ipython3",
   "version": "3.8.8"
  }
 },
 "nbformat": 4,
 "nbformat_minor": 5
}
